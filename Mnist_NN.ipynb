{
  "nbformat": 4,
  "nbformat_minor": 0,
  "metadata": {
    "colab": {
      "name": "Mnist_NN.ipynb",
      "provenance": [],
      "collapsed_sections": []
    },
    "kernelspec": {
      "name": "python3",
      "display_name": "Python 3"
    },
    "language_info": {
      "name": "python"
    }
  },
  "cells": [
    {
      "cell_type": "markdown",
      "metadata": {
        "id": "XsyHPq_DUf3l"
      },
      "source": [
        "# **MNIST classification by various Neural Network models**"
      ]
    },
    {
      "cell_type": "code",
      "metadata": {
        "id": "7uwFGAsoUf3s"
      },
      "source": [
        "import numpy as np\n",
        "np.random.seed(1337)"
      ],
      "execution_count": null,
      "outputs": []
    },
    {
      "cell_type": "code",
      "metadata": {
        "id": "2km5nRTCe7b3"
      },
      "source": [
        "# Importing standard libraries\n",
        "import pandas as pd\n",
        "from keras.datasets import mnist\n",
        "from tensorflow.keras.utils import to_categorical\n",
        "from keras.optimizers import SGD\n",
        "import matplotlib.pyplot as plt\n",
        "from keras.models import Sequential as seq\n",
        "from keras.layers import Dense as dense\n",
        "from keras.layers import Dropout\n",
        "from keras.regularizers import l2\n",
        "from tensorflow.keras.layers import Conv2D, MaxPool2D, Flatten"
      ],
      "execution_count": null,
      "outputs": []
    },
    {
      "cell_type": "code",
      "metadata": {
        "id": "uW43hfUZmbDD"
      },
      "source": [
        "# Loading the data\n",
        "(train_x, train_y), (test_x, test_y) = mnist.load_data()"
      ],
      "execution_count": null,
      "outputs": []
    },
    {
      "cell_type": "code",
      "metadata": {
        "id": "GAZGT7jIZW6G"
      },
      "source": [
        "# Normalizing the input data by maximum pixel 255\n",
        "train_x = train_x/255\n",
        "test_x = test_x/255"
      ],
      "execution_count": null,
      "outputs": []
    },
    {
      "cell_type": "code",
      "metadata": {
        "colab": {
          "base_uri": "https://localhost:8080/"
        },
        "id": "g34uFWXk_x-x",
        "outputId": "50be3980-fd46-4160-bd04-b2a928c2f69e"
      },
      "source": [
        "# Flattening the inputs to 2-d\n",
        "train_input = np.reshape(train_x,(len(train_x), -1))\n",
        "test_input = np.reshape(test_x,(len(test_x), -1))\n",
        "print('Train input shape is',np.shape(train_input))\n",
        "print('Test input shape is',np.shape(test_input))"
      ],
      "execution_count": null,
      "outputs": [
        {
          "output_type": "stream",
          "text": [
            "Train input shape is (60000, 784)\n",
            "Test input shape is (10000, 784)\n"
          ],
          "name": "stdout"
        }
      ]
    },
    {
      "cell_type": "code",
      "metadata": {
        "colab": {
          "base_uri": "https://localhost:8080/"
        },
        "id": "UuRMQLpRbpjF",
        "outputId": "0ec2545a-194b-4a6d-c906-1f40a2613cdd"
      },
      "source": [
        "# One hot encoding of the train and test label vectors\n",
        "train_label= to_categorical(train_y,10)\n",
        "test_label = to_categorical(test_y,10)\n",
        "print('Train label shape is',np.shape(train_label))\n",
        "print('Test label shape is',np.shape(test_label))"
      ],
      "execution_count": null,
      "outputs": [
        {
          "output_type": "stream",
          "text": [
            "Train label shape is (60000, 10)\n",
            "Test label shape is (10000, 10)\n"
          ],
          "name": "stdout"
        }
      ]
    },
    {
      "cell_type": "markdown",
      "metadata": {
        "id": "heOlj7ysPowq"
      },
      "source": [
        "# **Single Layered Neural Network**"
      ]
    },
    {
      "cell_type": "code",
      "metadata": {
        "id": "O8a4FlOogIdx"
      },
      "source": [
        "# Building the single-layered Neural Network using keras\n",
        "nn_keras_model = seq()\n",
        "\n",
        "# Adding input and one-hidden layer\n",
        "nn_keras_model.add(dense(128, activation='sigmoid', input_shape=(784,)))\n",
        "\n",
        "# Adding the output layer\n",
        "nn_keras_model.add(dense(10, activation='softmax'))\n",
        "\n",
        "# Choosing the Stochastic gradient optimizer\n",
        "sgd = SGD(learning_rate=0.1)\n",
        "\n",
        "# Compiling the created model\n",
        "nn_keras_model.compile(loss = 'categorical_crossentropy', optimizer = sgd, metrics = ['accuracy'])\n"
      ],
      "execution_count": null,
      "outputs": []
    },
    {
      "cell_type": "code",
      "metadata": {
        "colab": {
          "base_uri": "https://localhost:8080/"
        },
        "id": "0ks51-RxozyR",
        "outputId": "519bc13c-0573-4e6b-d1b4-d56eeeeb8fb9"
      },
      "source": [
        "# Fitting the model for the train data\n",
        "nn_keras_model.fit(train_input, train_label ,epochs=10, validation_data=(test_input, test_label), verbose=1)"
      ],
      "execution_count": null,
      "outputs": [
        {
          "output_type": "stream",
          "text": [
            "Epoch 1/10\n",
            "1875/1875 [==============================] - 4s 2ms/step - loss: 0.1186 - accuracy: 0.9664 - val_loss: 0.1248 - val_accuracy: 0.9616\n",
            "Epoch 2/10\n",
            "1875/1875 [==============================] - 4s 2ms/step - loss: 0.1111 - accuracy: 0.9682 - val_loss: 0.1197 - val_accuracy: 0.9647\n",
            "Epoch 3/10\n",
            "1875/1875 [==============================] - 4s 2ms/step - loss: 0.1044 - accuracy: 0.9707 - val_loss: 0.1111 - val_accuracy: 0.9660\n",
            "Epoch 4/10\n",
            "1875/1875 [==============================] - 4s 2ms/step - loss: 0.0987 - accuracy: 0.9721 - val_loss: 0.1066 - val_accuracy: 0.9682\n",
            "Epoch 5/10\n",
            "1875/1875 [==============================] - 4s 2ms/step - loss: 0.0931 - accuracy: 0.9734 - val_loss: 0.1044 - val_accuracy: 0.9681\n",
            "Epoch 6/10\n",
            "1875/1875 [==============================] - 4s 2ms/step - loss: 0.0883 - accuracy: 0.9748 - val_loss: 0.1022 - val_accuracy: 0.9684\n",
            "Epoch 7/10\n",
            "1875/1875 [==============================] - 4s 2ms/step - loss: 0.0840 - accuracy: 0.9763 - val_loss: 0.0968 - val_accuracy: 0.9701\n",
            "Epoch 8/10\n",
            "1875/1875 [==============================] - 4s 2ms/step - loss: 0.0797 - accuracy: 0.9776 - val_loss: 0.0938 - val_accuracy: 0.9719\n",
            "Epoch 9/10\n",
            "1875/1875 [==============================] - 4s 2ms/step - loss: 0.0761 - accuracy: 0.9781 - val_loss: 0.0925 - val_accuracy: 0.9710\n",
            "Epoch 10/10\n",
            "1875/1875 [==============================] - 4s 2ms/step - loss: 0.0724 - accuracy: 0.9792 - val_loss: 0.0913 - val_accuracy: 0.9723\n"
          ],
          "name": "stdout"
        },
        {
          "output_type": "execute_result",
          "data": {
            "text/plain": [
              "<keras.callbacks.History at 0x7f7bdc5fd1d0>"
            ]
          },
          "metadata": {
            "tags": []
          },
          "execution_count": 53
        }
      ]
    },
    {
      "cell_type": "code",
      "metadata": {
        "colab": {
          "base_uri": "https://localhost:8080/",
          "height": 281
        },
        "id": "NboonCxUngnq",
        "outputId": "55690766-54b3-47c2-fb14-288d6e92e1ef"
      },
      "source": [
        "# Plotting the accuracy of train and validation\n",
        "accuracy = nn_keras_model.history.history['accuracy']\n",
        "val_accuracy = nn_keras_model.history.history['val_accuracy']\n",
        "plt.plot(accuracy, label = 'Accuracy')\n",
        "plt.plot(val_accuracy, label = 'Val Accuracy')\n",
        "plt.legend()\n",
        "plt.title('Accuracy plot for NN built using keras')\n",
        "plt.show()"
      ],
      "execution_count": null,
      "outputs": [
        {
          "output_type": "display_data",
          "data": {
            "image/png": "[encoded data removed]",
            "text/plain": [
              "<Figure size 432x288 with 1 Axes>"
            ]
          },
          "metadata": {
            "tags": [],
            "needs_background": "light"
          }
        }
      ]
    },
    {
      "cell_type": "code",
      "metadata": {
        "colab": {
          "base_uri": "https://localhost:8080/"
        },
        "id": "MYnf8_Y2kpNf",
        "outputId": "80b42ad8-92fd-42ee-b1c6-e9b3a1e3964c"
      },
      "source": [
        "# Evaluating the model\n",
        "train_loss, train_acc = nn_keras_model.evaluate(train_input,train_label)\n",
        "print('Train_loss:',train_loss, ';', 'Train Accuracy:', train_acc)\n",
        "test_loss, test_acc = nn_keras_model.evaluate(test_input,test_label)\n",
        "print('Test_loss:',test_loss, ';', 'Test Accuracy:', test_acc)"
      ],
      "execution_count": null,
      "outputs": [
        {
          "output_type": "stream",
          "text": [
            "1875/1875 [==============================] - 3s 2ms/step - loss: 0.0681 - accuracy: 0.9814\n",
            "Train_loss: 0.0681229680776596 ; Train Accuracy: 0.9813500046730042\n",
            "313/313 [==============================] - 0s 1ms/step - loss: 0.0913 - accuracy: 0.9723\n",
            "Test_loss: 0.09130249917507172 ; Test Accuracy: 0.9722999930381775\n"
          ],
          "name": "stdout"
        }
      ]
    },
    {
      "cell_type": "markdown",
      "metadata": {
        "id": "0WWfFezBa0Xr"
      },
      "source": [
        "# **Inference:**\n",
        "As observed with previous experiences, the manually created function consumes high time than the library function. Also the accuracy of the library function is high when compared to using a function created from scratch."
      ]
    },
    {
      "cell_type": "markdown",
      "metadata": {
        "id": "JPDrU6Ikw09C"
      },
      "source": [
        "# **Effect of ReLu activation layer in NN**"
      ]
    },
    {
      "cell_type": "code",
      "metadata": {
        "id": "zqlig8ugxGn3"
      },
      "source": [
        "# Building the single-layered Neural Network using keras for Relu activation \n",
        "nn_keras_relu = seq()\n",
        "\n",
        "# Adding input and one-hidden layer\n",
        "nn_keras_relu.add(dense(128, activation='relu', input_shape=(784,)))\n",
        "\n",
        "# Adding the output layer\n",
        "nn_keras_relu.add(dense(10, activation='softmax'))\n",
        "\n",
        "# Choosing the Stochastic gradient optimizer\n",
        "sgd = SGD(learning_rate=0.1)\n",
        "\n",
        "# Compiling the created model\n",
        "nn_keras_relu.compile(loss = 'categorical_crossentropy', optimizer = sgd, metrics = ['accuracy'])\n"
      ],
      "execution_count": null,
      "outputs": []
    },
    {
      "cell_type": "code",
      "metadata": {
        "colab": {
          "base_uri": "https://localhost:8080/"
        },
        "id": "INjEZaKKxGn4",
        "outputId": "9e7bb9ba-7259-44ca-8a66-942897068935"
      },
      "source": [
        "# Fitting the model for the train data\n",
        "nn_keras_relu.fit(train_input, train_label ,epochs=10, validation_data=(test_input, test_label), verbose=1)"
      ],
      "execution_count": null,
      "outputs": [
        {
          "output_type": "stream",
          "text": [
            "Epoch 1/10\n",
            "1875/1875 [==============================] - 5s 2ms/step - loss: 0.4642 - accuracy: 0.8673 - val_loss: 0.1671 - val_accuracy: 0.9501\n",
            "Epoch 2/10\n",
            "1875/1875 [==============================] - 4s 2ms/step - loss: 0.1584 - accuracy: 0.9541 - val_loss: 0.1197 - val_accuracy: 0.9637\n",
            "Epoch 3/10\n",
            "1875/1875 [==============================] - 4s 2ms/step - loss: 0.1042 - accuracy: 0.9700 - val_loss: 0.1001 - val_accuracy: 0.9690\n",
            "Epoch 4/10\n",
            "1875/1875 [==============================] - 4s 2ms/step - loss: 0.0809 - accuracy: 0.9762 - val_loss: 0.0848 - val_accuracy: 0.9733\n",
            "Epoch 5/10\n",
            "1875/1875 [==============================] - 4s 2ms/step - loss: 0.0664 - accuracy: 0.9802 - val_loss: 0.0801 - val_accuracy: 0.9758\n",
            "Epoch 6/10\n",
            "1875/1875 [==============================] - 4s 2ms/step - loss: 0.0553 - accuracy: 0.9834 - val_loss: 0.0832 - val_accuracy: 0.9741\n",
            "Epoch 7/10\n",
            "1875/1875 [==============================] - 4s 2ms/step - loss: 0.0477 - accuracy: 0.9860 - val_loss: 0.0687 - val_accuracy: 0.9779\n",
            "Epoch 8/10\n",
            "1875/1875 [==============================] - 4s 2ms/step - loss: 0.0400 - accuracy: 0.9886 - val_loss: 0.0695 - val_accuracy: 0.9776\n",
            "Epoch 9/10\n",
            "1875/1875 [==============================] - 4s 2ms/step - loss: 0.0351 - accuracy: 0.9905 - val_loss: 0.0718 - val_accuracy: 0.9786\n",
            "Epoch 10/10\n",
            "1875/1875 [==============================] - 4s 2ms/step - loss: 0.0321 - accuracy: 0.9914 - val_loss: 0.0648 - val_accuracy: 0.9796\n"
          ],
          "name": "stdout"
        },
        {
          "output_type": "execute_result",
          "data": {
            "text/plain": [
              "<keras.callbacks.History at 0x7f7bd94d4990>"
            ]
          },
          "metadata": {
            "tags": []
          },
          "execution_count": 71
        }
      ]
    },
    {
      "cell_type": "code",
      "metadata": {
        "colab": {
          "base_uri": "https://localhost:8080/",
          "height": 281
        },
        "id": "yB-OuQPSxGn6",
        "outputId": "aa3825f3-a1a4-469c-9232-f8075b516123"
      },
      "source": [
        "# Plotting the accuracy of train and validation\n",
        "accuracy = nn_keras_relu.history.history['accuracy']\n",
        "val_accuracy = nn_keras_relu.history.history['val_accuracy']\n",
        "plt.plot(accuracy, label = 'Accuracy')\n",
        "plt.plot(val_accuracy, label = 'Val Accuracy')\n",
        "plt.legend()\n",
        "plt.title('Accuracy plot for NN built using keras')\n",
        "plt.show()"
      ],
      "execution_count": null,
      "outputs": [
        {
          "output_type": "display_data",
          "data": {
            "image/png": "[encoded data removed]",
            "text/plain": [
              "<Figure size 432x288 with 1 Axes>"
            ]
          },
          "metadata": {
            "tags": [],
            "needs_background": "light"
          }
        }
      ]
    },
    {
      "cell_type": "code",
      "metadata": {
        "colab": {
          "base_uri": "https://localhost:8080/"
        },
        "id": "3hZoK0GfxGn8",
        "outputId": "5aea78fc-e3b1-4488-83e7-e0d9467d51d2"
      },
      "source": [
        "# Evaluating the model\n",
        "train_loss, train_acc = nn_keras_relu.evaluate(train_input,train_label)\n",
        "print('Train_loss:',train_loss, ';', 'Train Accuracy:', train_acc)\n",
        "test_loss, test_acc = nn_keras_relu.evaluate(test_input,test_label)\n",
        "print('Test_loss:',test_loss, ';', 'Test Accuracy:', test_acc)"
      ],
      "execution_count": null,
      "outputs": [
        {
          "output_type": "stream",
          "text": [
            "1875/1875 [==============================] - 3s 2ms/step - loss: 0.0243 - accuracy: 0.9944\n",
            "Train_loss: 0.02432037889957428 ; Train Accuracy: 0.994350016117096\n",
            "313/313 [==============================] - 0s 1ms/step - loss: 0.0648 - accuracy: 0.9796\n",
            "Test_loss: 0.06480899453163147 ; Test Accuracy: 0.9796000123023987\n"
          ],
          "name": "stdout"
        }
      ]
    },
    {
      "cell_type": "markdown",
      "metadata": {
        "id": "Ld1Qmauhuras"
      },
      "source": [
        "# **Inference:**\n",
        "Using 'ReLU' activation function instead of 'sigmoid', increases both the train accuracy and test accuracy."
      ]
    },
    {
      "cell_type": "markdown",
      "metadata": {
        "id": "fW3BA1sH6JdW"
      },
      "source": [
        "# **Impact of regularization and dropouts**"
      ]
    },
    {
      "cell_type": "code",
      "metadata": {
        "colab": {
          "base_uri": "https://localhost:8080/"
        },
        "id": "uYKgBRxl6Iub",
        "outputId": "403ee370-d6b4-4778-c532-5d1306f3ed8e"
      },
      "source": [
        "# Definding the regularization rate and dropout rates\n",
        "drop_list = [0.2,0.4,0.6,0.8]\n",
        "regularize_list = [0.001,0.01,0.1,1]\n",
        "\n",
        "# Creating an summary dataframe to summarize the result of each iteration\n",
        "summary_df = pd.DataFrame(columns = [\"Regularization\", \"Drop_out\", \"Train_accuracy\", \"Val_accuracy\"])\n",
        "\n",
        "# Developing the model for different regularization rate and dropout rate\n",
        "for drop in drop_list:\n",
        "  for value in regularize_list:\n",
        "    nn_keras_drop= seq()\n",
        "\n",
        "    # Adding input and one-hidden layer \n",
        "    nn_keras_drop.add(dense(128, activation='relu', input_shape=(784,),kernel_regularizer=l2(value)))\n",
        "    # Adding first dropout layer\n",
        "    nn_keras_drop.add(Dropout(drop))\n",
        "\n",
        "    # Adding second hidden layer\n",
        "    nn_keras_drop.add(dense(64, activation='relu',kernel_regularizer=l2(value)))\n",
        "    # Adding second dropout layer\n",
        "    nn_keras_drop.add(Dropout(drop))\n",
        "\n",
        "    # Adding third hidden layer\n",
        "    nn_keras_drop.add(dense(32, activation='relu',kernel_regularizer=l2(value)))\n",
        "    # Adding third dropout layer\n",
        "    nn_keras_drop.add(Dropout(drop))\n",
        "\n",
        "    # Adding the output layer\n",
        "    nn_keras_drop.add(dense(10, activation='softmax', kernel_regularizer=l2(value)))\n",
        "\n",
        "    # Choosing the Stochastic gradient optimizer\n",
        "    sgd = SGD(learning_rate=0.1)\n",
        "\n",
        "    # Compiling the created model\n",
        "    nn_keras_drop.compile(loss = 'categorical_crossentropy', optimizer = sgd, metrics = ['accuracy'])\n",
        "\n",
        "    # Fitting the model for the train data\n",
        "    nn_keras_drop.fit(train_input, train_label ,epochs=10, validation_data=(test_input, test_label), verbose=0)\n",
        "\n",
        "    # Model evaluation\n",
        "    train_loss, train_acc = nn_keras_drop.evaluate(train_input,train_label)\n",
        "    test_loss, test_acc = nn_keras_drop.evaluate(test_input,test_label)\n",
        "\n",
        "    # Updating the summary dataframe\n",
        "    summary_df = summary_df.append({'Drop_out':drop,'Regularization':value,'Train_accuracy':train_acc,'Val_accuracy':test_acc},ignore_index = True)"
      ],
      "execution_count": null,
      "outputs": [
        {
          "output_type": "stream",
          "text": [
            "1875/1875 [==============================] - 4s 2ms/step - loss: 0.2481 - accuracy: 0.9765\n",
            "313/313 [==============================] - 0s 1ms/step - loss: 0.2623 - accuracy: 0.9725\n",
            "1875/1875 [==============================] - 4s 2ms/step - loss: 0.8625 - accuracy: 0.9111\n",
            "313/313 [==============================] - 0s 1ms/step - loss: 0.8539 - accuracy: 0.9108\n",
            "1875/1875 [==============================] - 4s 2ms/step - loss: 2.3018 - accuracy: 0.1124\n",
            "313/313 [==============================] - 0s 1ms/step - loss: 2.3019 - accuracy: 0.1135\n",
            "1875/1875 [==============================] - 4s 2ms/step - loss: 2.3016 - accuracy: 0.1124\n",
            "313/313 [==============================] - 0s 1ms/step - loss: 2.3018 - accuracy: 0.1135\n",
            "1875/1875 [==============================] - 4s 2ms/step - loss: 0.3466 - accuracy: 0.9593\n",
            "313/313 [==============================] - 0s 1ms/step - loss: 0.3560 - accuracy: 0.9556\n",
            "1875/1875 [==============================] - 4s 2ms/step - loss: 0.9324 - accuracy: 0.9040\n",
            "313/313 [==============================] - 0s 1ms/step - loss: 0.9265 - accuracy: 0.9022\n",
            "1875/1875 [==============================] - 4s 2ms/step - loss: 2.3019 - accuracy: 0.1124\n",
            "313/313 [==============================] - 0s 1ms/step - loss: 2.3016 - accuracy: 0.1135\n",
            "1875/1875 [==============================] - 4s 2ms/step - loss: 2.3020 - accuracy: 0.1124\n",
            "313/313 [==============================] - 0s 1ms/step - loss: 2.3019 - accuracy: 0.1135\n",
            "1875/1875 [==============================] - 4s 2ms/step - loss: 0.5701 - accuracy: 0.9257\n",
            "313/313 [==============================] - 0s 1ms/step - loss: 0.5746 - accuracy: 0.9241\n",
            "1875/1875 [==============================] - 4s 2ms/step - loss: 1.1201 - accuracy: 0.8618\n",
            "313/313 [==============================] - 0s 1ms/step - loss: 1.1061 - accuracy: 0.8643\n",
            "1875/1875 [==============================] - 4s 2ms/step - loss: 2.3018 - accuracy: 0.1124\n",
            "313/313 [==============================] - 1s 2ms/step - loss: 2.3021 - accuracy: 0.1135\n",
            "1875/1875 [==============================] - 4s 2ms/step - loss: 2.3016 - accuracy: 0.1124\n",
            "313/313 [==============================] - 0s 1ms/step - loss: 2.3014 - accuracy: 0.1135\n",
            "1875/1875 [==============================] - 4s 2ms/step - loss: 1.8810 - accuracy: 0.2941\n",
            "313/313 [==============================] - 0s 1ms/step - loss: 1.8831 - accuracy: 0.2979\n",
            "1875/1875 [==============================] - 4s 2ms/step - loss: 1.8069 - accuracy: 0.3160\n",
            "313/313 [==============================] - 0s 1ms/step - loss: 1.8038 - accuracy: 0.3124\n",
            "1875/1875 [==============================] - 4s 2ms/step - loss: 2.3014 - accuracy: 0.1124\n",
            "313/313 [==============================] - 0s 1ms/step - loss: 2.3013 - accuracy: 0.1135\n",
            "1875/1875 [==============================] - 4s 2ms/step - loss: 2.3023 - accuracy: 0.1124\n",
            "313/313 [==============================] - 0s 1ms/step - loss: 2.3017 - accuracy: 0.1135\n"
          ],
          "name": "stdout"
        }
      ]
    },
    {
      "cell_type": "code",
      "metadata": {
        "colab": {
          "base_uri": "https://localhost:8080/",
          "height": 545
        },
        "id": "RUVBBODtH7wm",
        "outputId": "4850521f-fc7b-4dcf-cedf-01ed23aeaddb"
      },
      "source": [
        "summary_df"
      ],
      "execution_count": null,
      "outputs": [
        {
          "output_type": "execute_result",
          "data": {
            "text/html": [
              "<div>\n",
              "<style scoped>\n",
              "    .dataframe tbody tr th:only-of-type {\n",
              "        vertical-align: middle;\n",
              "    }\n",
              "\n",
              "    .dataframe tbody tr th {\n",
              "        vertical-align: top;\n",
              "    }\n",
              "\n",
              "    .dataframe thead th {\n",
              "        text-align: right;\n",
              "    }\n",
              "</style>\n",
              "<table border=\"1\" class=\"dataframe\">\n",
              "  <thead>\n",
              "    <tr style=\"text-align: right;\">\n",
              "      <th></th>\n",
              "      <th>Regularization</th>\n",
              "      <th>Drop_out</th>\n",
              "      <th>Train_accuracy</th>\n",
              "      <th>Val_accuracy</th>\n",
              "    </tr>\n",
              "  </thead>\n",
              "  <tbody>\n",
              "    <tr>\n",
              "      <th>0</th>\n",
              "      <td>0.001</td>\n",
              "      <td>0.2</td>\n",
              "      <td>0.976500</td>\n",
              "      <td>0.9725</td>\n",
              "    </tr>\n",
              "    <tr>\n",
              "      <th>1</th>\n",
              "      <td>0.010</td>\n",
              "      <td>0.2</td>\n",
              "      <td>0.911067</td>\n",
              "      <td>0.9108</td>\n",
              "    </tr>\n",
              "    <tr>\n",
              "      <th>2</th>\n",
              "      <td>0.100</td>\n",
              "      <td>0.2</td>\n",
              "      <td>0.112367</td>\n",
              "      <td>0.1135</td>\n",
              "    </tr>\n",
              "    <tr>\n",
              "      <th>3</th>\n",
              "      <td>1.000</td>\n",
              "      <td>0.2</td>\n",
              "      <td>0.112367</td>\n",
              "      <td>0.1135</td>\n",
              "    </tr>\n",
              "    <tr>\n",
              "      <th>4</th>\n",
              "      <td>0.001</td>\n",
              "      <td>0.4</td>\n",
              "      <td>0.959317</td>\n",
              "      <td>0.9556</td>\n",
              "    </tr>\n",
              "    <tr>\n",
              "      <th>5</th>\n",
              "      <td>0.010</td>\n",
              "      <td>0.4</td>\n",
              "      <td>0.904033</td>\n",
              "      <td>0.9022</td>\n",
              "    </tr>\n",
              "    <tr>\n",
              "      <th>6</th>\n",
              "      <td>0.100</td>\n",
              "      <td>0.4</td>\n",
              "      <td>0.112367</td>\n",
              "      <td>0.1135</td>\n",
              "    </tr>\n",
              "    <tr>\n",
              "      <th>7</th>\n",
              "      <td>1.000</td>\n",
              "      <td>0.4</td>\n",
              "      <td>0.112367</td>\n",
              "      <td>0.1135</td>\n",
              "    </tr>\n",
              "    <tr>\n",
              "      <th>8</th>\n",
              "      <td>0.001</td>\n",
              "      <td>0.6</td>\n",
              "      <td>0.925650</td>\n",
              "      <td>0.9241</td>\n",
              "    </tr>\n",
              "    <tr>\n",
              "      <th>9</th>\n",
              "      <td>0.010</td>\n",
              "      <td>0.6</td>\n",
              "      <td>0.861800</td>\n",
              "      <td>0.8643</td>\n",
              "    </tr>\n",
              "    <tr>\n",
              "      <th>10</th>\n",
              "      <td>0.100</td>\n",
              "      <td>0.6</td>\n",
              "      <td>0.112367</td>\n",
              "      <td>0.1135</td>\n",
              "    </tr>\n",
              "    <tr>\n",
              "      <th>11</th>\n",
              "      <td>1.000</td>\n",
              "      <td>0.6</td>\n",
              "      <td>0.112367</td>\n",
              "      <td>0.1135</td>\n",
              "    </tr>\n",
              "    <tr>\n",
              "      <th>12</th>\n",
              "      <td>0.001</td>\n",
              "      <td>0.8</td>\n",
              "      <td>0.294083</td>\n",
              "      <td>0.2979</td>\n",
              "    </tr>\n",
              "    <tr>\n",
              "      <th>13</th>\n",
              "      <td>0.010</td>\n",
              "      <td>0.8</td>\n",
              "      <td>0.316050</td>\n",
              "      <td>0.3124</td>\n",
              "    </tr>\n",
              "    <tr>\n",
              "      <th>14</th>\n",
              "      <td>0.100</td>\n",
              "      <td>0.8</td>\n",
              "      <td>0.112367</td>\n",
              "      <td>0.1135</td>\n",
              "    </tr>\n",
              "    <tr>\n",
              "      <th>15</th>\n",
              "      <td>1.000</td>\n",
              "      <td>0.8</td>\n",
              "      <td>0.112367</td>\n",
              "      <td>0.1135</td>\n",
              "    </tr>\n",
              "  </tbody>\n",
              "</table>\n",
              "</div>"
            ],
            "text/plain": [
              "    Regularization  Drop_out  Train_accuracy  Val_accuracy\n",
              "0            0.001       0.2        0.976500        0.9725\n",
              "1            0.010       0.2        0.911067        0.9108\n",
              "2            0.100       0.2        0.112367        0.1135\n",
              "3            1.000       0.2        0.112367        0.1135\n",
              "4            0.001       0.4        0.959317        0.9556\n",
              "5            0.010       0.4        0.904033        0.9022\n",
              "6            0.100       0.4        0.112367        0.1135\n",
              "7            1.000       0.4        0.112367        0.1135\n",
              "8            0.001       0.6        0.925650        0.9241\n",
              "9            0.010       0.6        0.861800        0.8643\n",
              "10           0.100       0.6        0.112367        0.1135\n",
              "11           1.000       0.6        0.112367        0.1135\n",
              "12           0.001       0.8        0.294083        0.2979\n",
              "13           0.010       0.8        0.316050        0.3124\n",
              "14           0.100       0.8        0.112367        0.1135\n",
              "15           1.000       0.8        0.112367        0.1135"
            ]
          },
          "metadata": {
            "tags": []
          },
          "execution_count": 92
        }
      ]
    },
    {
      "cell_type": "code",
      "metadata": {
        "colab": {
          "base_uri": "https://localhost:8080/",
          "height": 80
        },
        "id": "nrli8RBaICvd",
        "outputId": "e5fdea04-cec7-4cf8-ff77-6c6f4febc283"
      },
      "source": [
        "# Finding row with maximum value for both train and test accuracy\n",
        "row_max =summary_df[(summary_df['Train_accuracy'] == summary_df['Train_accuracy'].max()) & (summary_df['Val_accuracy'] == summary_df['Val_accuracy'].max())]\n",
        "row_max"
      ],
      "execution_count": null,
      "outputs": [
        {
          "output_type": "execute_result",
          "data": {
            "text/html": [
              "<div>\n",
              "<style scoped>\n",
              "    .dataframe tbody tr th:only-of-type {\n",
              "        vertical-align: middle;\n",
              "    }\n",
              "\n",
              "    .dataframe tbody tr th {\n",
              "        vertical-align: top;\n",
              "    }\n",
              "\n",
              "    .dataframe thead th {\n",
              "        text-align: right;\n",
              "    }\n",
              "</style>\n",
              "<table border=\"1\" class=\"dataframe\">\n",
              "  <thead>\n",
              "    <tr style=\"text-align: right;\">\n",
              "      <th></th>\n",
              "      <th>Regularization</th>\n",
              "      <th>Drop_out</th>\n",
              "      <th>Train_accuracy</th>\n",
              "      <th>Val_accuracy</th>\n",
              "    </tr>\n",
              "  </thead>\n",
              "  <tbody>\n",
              "    <tr>\n",
              "      <th>0</th>\n",
              "      <td>0.001</td>\n",
              "      <td>0.2</td>\n",
              "      <td>0.9765</td>\n",
              "      <td>0.9725</td>\n",
              "    </tr>\n",
              "  </tbody>\n",
              "</table>\n",
              "</div>"
            ],
            "text/plain": [
              "   Regularization  Drop_out  Train_accuracy  Val_accuracy\n",
              "0           0.001       0.2          0.9765        0.9725"
            ]
          },
          "metadata": {
            "tags": []
          },
          "execution_count": 108
        }
      ]
    },
    {
      "cell_type": "code",
      "metadata": {
        "colab": {
          "base_uri": "https://localhost:8080/"
        },
        "id": "DCbOfVPWCVh3",
        "outputId": "bee76f73-9cc1-45b8-e24b-153bcc8af597"
      },
      "source": [
        "# Building the model for best dropout rate and regularization found above\n",
        "drop_rate = 0.2\n",
        "regularization = 0.001\n",
        "\n",
        "nn_keras_drop= seq()\n",
        "\n",
        "# Adding input and one-hidden layer \n",
        "nn_keras_drop.add(dense(128, activation='relu', input_shape=(784,),kernel_regularizer=l2(regularization)))\n",
        "# Adding first dropout layer\n",
        "nn_keras_drop.add(Dropout(drop_rate))\n",
        "\n",
        "# Adding second hidden layer\n",
        "nn_keras_drop.add(dense(64, activation='relu',kernel_regularizer=l2(regularization)))\n",
        "# Adding second dropout layer\n",
        "nn_keras_drop.add(Dropout(drop_rate))\n",
        "\n",
        "# Adding third hidden layer\n",
        "nn_keras_drop.add(dense(32, activation='relu',kernel_regularizer=l2(regularization)))\n",
        "# Adding third dropout layer\n",
        "nn_keras_drop.add(Dropout(drop_rate))\n",
        "\n",
        "# Adding the output layer\n",
        "nn_keras_drop.add(dense(10, activation='softmax',kernel_regularizer=l2(regularization)))\n",
        "\n",
        "# Choosing the Stochastic gradient optimizer\n",
        "sgd = SGD(learning_rate=0.1)\n",
        "\n",
        "# Compiling the created model\n",
        "nn_keras_drop.compile(loss = 'categorical_crossentropy', optimizer = sgd, metrics = ['accuracy'])\n",
        "\n",
        "# Fitting the model for the train data\n",
        "nn_keras_drop.fit(train_input, train_label ,epochs=10, validation_data=(test_input, test_label), verbose=1)\n"
      ],
      "execution_count": null,
      "outputs": [
        {
          "output_type": "stream",
          "text": [
            "Epoch 1/10\n",
            "1875/1875 [==============================] - 6s 3ms/step - loss: 1.1250 - accuracy: 0.7511 - val_loss: 0.4563 - val_accuracy: 0.9495\n",
            "Epoch 2/10\n",
            "1875/1875 [==============================] - 5s 3ms/step - loss: 0.5146 - accuracy: 0.9306 - val_loss: 0.3463 - val_accuracy: 0.9636\n",
            "Epoch 3/10\n",
            "1875/1875 [==============================] - 5s 3ms/step - loss: 0.4142 - accuracy: 0.9437 - val_loss: 0.3179 - val_accuracy: 0.9606\n",
            "Epoch 4/10\n",
            "1875/1875 [==============================] - 5s 3ms/step - loss: 0.3715 - accuracy: 0.9483 - val_loss: 0.2952 - val_accuracy: 0.9655\n",
            "Epoch 5/10\n",
            "1875/1875 [==============================] - 5s 3ms/step - loss: 0.3457 - accuracy: 0.9522 - val_loss: 0.2886 - val_accuracy: 0.9666\n",
            "Epoch 6/10\n",
            "1875/1875 [==============================] - 5s 3ms/step - loss: 0.3343 - accuracy: 0.9543 - val_loss: 0.2831 - val_accuracy: 0.9661\n",
            "Epoch 7/10\n",
            "1875/1875 [==============================] - 5s 3ms/step - loss: 0.3278 - accuracy: 0.9567 - val_loss: 0.2785 - val_accuracy: 0.9677\n",
            "Epoch 8/10\n",
            "1875/1875 [==============================] - 5s 3ms/step - loss: 0.3245 - accuracy: 0.9564 - val_loss: 0.2651 - val_accuracy: 0.9699\n",
            "Epoch 9/10\n",
            "1875/1875 [==============================] - 5s 3ms/step - loss: 0.3196 - accuracy: 0.9590 - val_loss: 0.2657 - val_accuracy: 0.9706\n",
            "Epoch 10/10\n",
            "1875/1875 [==============================] - 5s 3ms/step - loss: 0.3205 - accuracy: 0.9576 - val_loss: 0.2603 - val_accuracy: 0.9715\n"
          ],
          "name": "stdout"
        },
        {
          "output_type": "execute_result",
          "data": {
            "text/plain": [
              "<keras.callbacks.History at 0x7f7bde6083d0>"
            ]
          },
          "metadata": {
            "tags": []
          },
          "execution_count": 110
        }
      ]
    },
    {
      "cell_type": "code",
      "metadata": {
        "colab": {
          "base_uri": "https://localhost:8080/",
          "height": 281
        },
        "id": "dJbWv9k8Efdy",
        "outputId": "edef4d8b-364a-4c24-bae6-2dae23cc716c"
      },
      "source": [
        "# Plotting the accuracy of train and validation\n",
        "accuracy = nn_keras_drop.history.history['accuracy']\n",
        "val_accuracy = nn_keras_drop.history.history['val_accuracy']\n",
        "plt.plot(accuracy, label = 'Accuracy')\n",
        "plt.plot(val_accuracy, label = 'Val Accuracy')\n",
        "plt.legend()\n",
        "plt.title('Accuracy plot for NN built using keras')\n",
        "plt.show()"
      ],
      "execution_count": null,
      "outputs": [
        {
          "output_type": "display_data",
          "data": {
            "image/png": "[encoded data removed]",
            "text/plain": [
              "<Figure size 432x288 with 1 Axes>"
            ]
          },
          "metadata": {
            "tags": [],
            "needs_background": "light"
          }
        }
      ]
    },
    {
      "cell_type": "code",
      "metadata": {
        "colab": {
          "base_uri": "https://localhost:8080/"
        },
        "id": "89sNS17FDq3W",
        "outputId": "d37fc280-8378-4695-c923-68703e24da8e"
      },
      "source": [
        "# Model evaluation\n",
        "train_loss, train_acc = nn_keras_drop.evaluate(train_input,train_label)\n",
        "print('Train_loss:',train_loss, ';', 'Train Accuracy:', train_acc)\n",
        "test_loss, test_acc = nn_keras_drop.evaluate(test_input,test_label)\n",
        "print('Test_loss:',test_loss, ';', 'Test Accuracy:', test_acc)"
      ],
      "execution_count": null,
      "outputs": [
        {
          "output_type": "stream",
          "text": [
            "1875/1875 [==============================] - 4s 2ms/step - loss: 0.2453 - accuracy: 0.9779\n",
            "Train_loss: 0.24533690512180328 ; Train Accuracy: 0.9779499769210815\n",
            "313/313 [==============================] - 1s 2ms/step - loss: 0.2603 - accuracy: 0.9715\n",
            "Test_loss: 0.26030221581459045 ; Test Accuracy: 0.9714999794960022\n"
          ],
          "name": "stdout"
        }
      ]
    },
    {
      "cell_type": "markdown",
      "metadata": {
        "id": "I_qQjr0nMpXe"
      },
      "source": [
        "# **Convolutional Neural Network**"
      ]
    },
    {
      "cell_type": "code",
      "metadata": {
        "colab": {
          "base_uri": "https://localhost:8080/"
        },
        "id": "5VJBUpHaMtX2",
        "outputId": "65f8701c-746a-463f-838c-cc6f0e46f0c2"
      },
      "source": [
        "# Reshaping the inputs to 3-d\n",
        "train_input_cnn = np.reshape(train_x,(len(train_x),28,28,1))\n",
        "test_input_cnn = np.reshape(test_x,(len(test_x), 28,28,1))\n",
        "print('CNN Train input shape is',np.shape(train_input_cnn))\n",
        "print('CNN Test input shape is',np.shape(test_input_cnn))"
      ],
      "execution_count": null,
      "outputs": [
        {
          "output_type": "stream",
          "text": [
            "CNN Train input shape is (60000, 28, 28, 1)\n",
            "CNN Test input shape is (10000, 28, 28, 1)\n"
          ],
          "name": "stdout"
        }
      ]
    },
    {
      "cell_type": "code",
      "metadata": {
        "id": "ddl4ivq6QYBn"
      },
      "source": [
        "# Creating the CNN model\n",
        "cnn_model = seq()\n",
        "\n",
        "# Adding the convolutional layer\n",
        "cnn_model.add(Conv2D(32, (3, 3), activation='relu', input_shape=(28, 28, 1)))\n",
        "\n",
        "# Adding the pool layer\n",
        "cnn_model.add(MaxPool2D(2, 2))\n",
        "\n",
        "# Flattening before feeding it to hidden layer\n",
        "cnn_model.add(Flatten())\n",
        "\n",
        "# Hidden layer with 64 neurons\n",
        "cnn_model.add(dense(64, activation='relu'))\n",
        "\n",
        "# Output layer\n",
        "cnn_model.add(dense(10, activation='softmax'))\n",
        "\n",
        "# Choosing the Stochastic gradient optimizer\n",
        "sgd = SGD(learning_rate=0.1)\n",
        "\n",
        "# Compiling the created model\n",
        "cnn_model.compile(loss = 'categorical_crossentropy', optimizer = sgd, metrics = ['accuracy'])\n"
      ],
      "execution_count": null,
      "outputs": []
    },
    {
      "cell_type": "code",
      "metadata": {
        "colab": {
          "base_uri": "https://localhost:8080/"
        },
        "id": "DrbUruZbWebE",
        "outputId": "5636536f-f7d4-4451-f39d-6bbdedfacf91"
      },
      "source": [
        "# Fitting the model for the train data\n",
        "cnn_model.fit(train_input_cnn, train_label ,epochs=5, validation_data=(test_input_cnn, test_label), verbose=1)"
      ],
      "execution_count": null,
      "outputs": [
        {
          "output_type": "stream",
          "text": [
            "Epoch 1/5\n",
            "1875/1875 [==============================] - 31s 16ms/step - loss: 0.4419 - accuracy: 0.8609 - val_loss: 0.0891 - val_accuracy: 0.9707\n",
            "Epoch 2/5\n",
            "1875/1875 [==============================] - 30s 16ms/step - loss: 0.0801 - accuracy: 0.9755 - val_loss: 0.0624 - val_accuracy: 0.9791\n",
            "Epoch 3/5\n",
            "1875/1875 [==============================] - 30s 16ms/step - loss: 0.0502 - accuracy: 0.9842 - val_loss: 0.0572 - val_accuracy: 0.9802\n",
            "Epoch 4/5\n",
            "1875/1875 [==============================] - 30s 16ms/step - loss: 0.0380 - accuracy: 0.9888 - val_loss: 0.0492 - val_accuracy: 0.9839\n",
            "Epoch 5/5\n",
            "1875/1875 [==============================] - 30s 16ms/step - loss: 0.0273 - accuracy: 0.9919 - val_loss: 0.0445 - val_accuracy: 0.9848\n"
          ],
          "name": "stdout"
        },
        {
          "output_type": "execute_result",
          "data": {
            "text/plain": [
              "<keras.callbacks.History at 0x7f7be1ddc890>"
            ]
          },
          "metadata": {
            "tags": []
          },
          "execution_count": 146
        }
      ]
    },
    {
      "cell_type": "code",
      "metadata": {
        "colab": {
          "base_uri": "https://localhost:8080/",
          "height": 281
        },
        "id": "dt9mf30OSuwW",
        "outputId": "661e270c-fa79-407c-fc98-ea5141ad1a64"
      },
      "source": [
        "# Plotting the accuracy of train and validation\n",
        "accuracy = cnn_model.history.history['accuracy']\n",
        "val_accuracy = cnn_model.history.history['val_accuracy']\n",
        "plt.plot(accuracy, label = 'Accuracy')\n",
        "plt.plot(val_accuracy, label = 'Val Accuracy')\n",
        "plt.legend()\n",
        "plt.title('Accuracy plot for NN built using keras')\n",
        "plt.show()"
      ],
      "execution_count": null,
      "outputs": [
        {
          "output_type": "display_data",
          "data": {
            "image/png": "[encoded data removed]",
            "text/plain": [
              "<Figure size 432x288 with 1 Axes>"
            ]
          },
          "metadata": {
            "tags": [],
            "needs_background": "light"
          }
        }
      ]
    },
    {
      "cell_type": "code",
      "metadata": {
        "colab": {
          "base_uri": "https://localhost:8080/"
        },
        "id": "cs8yZWHnSy-Q",
        "outputId": "9b61a43c-3cc5-4b53-b8f2-f1cfafea8f0b"
      },
      "source": [
        "# Model evaluation\n",
        "train_loss, train_acc = cnn_model.evaluate(train_input_cnn,train_label)\n",
        "print('Train_loss:',train_loss, ';', 'Train Accuracy:', train_acc)\n",
        "test_loss, test_acc = cnn_model.evaluate(test_input_cnn,test_label)\n",
        "print('Test_loss:',test_loss, ';', 'Test Accuracy:', test_acc)"
      ],
      "execution_count": null,
      "outputs": [
        {
          "output_type": "stream",
          "text": [
            "1875/1875 [==============================] - 12s 6ms/step - loss: 0.0216 - accuracy: 0.9940\n",
            "Train_loss: 0.021553490310907364 ; Train Accuracy: 0.9940000176429749\n",
            "313/313 [==============================] - 2s 6ms/step - loss: 0.0445 - accuracy: 0.9848\n",
            "Test_loss: 0.04450812563300133 ; Test Accuracy: 0.9847999811172485\n"
          ],
          "name": "stdout"
        }
      ]
    },
    {
      "cell_type": "markdown",
      "metadata": {
        "id": "jsJOF7UMvdwM"
      },
      "source": [
        "# **Inference:**\n",
        "Compared to early developed Neural Networks, the convolutional neural network is found to give high test accuracy. But, it has high time consumption than other models."
      ]
    },
    {
      "cell_type": "markdown",
      "metadata": {
        "id": "xUtIgRcgYRA9"
      },
      "source": [
        "# **Analysis on misclassified MNIST numbers**"
      ]
    },
    {
      "cell_type": "code",
      "metadata": {
        "id": "tjwBApaEYXwq"
      },
      "source": [
        "# Finding the index of misclassified numbers in simple NN \n",
        "nn_keras_prediction = np.argmax(nn_keras_model.predict(test_input),axis = 1)\n",
        "keras_misclassified = np.where(nn_keras_prediction!=test_y)"
      ],
      "execution_count": null,
      "outputs": []
    },
    {
      "cell_type": "code",
      "metadata": {
        "id": "-oZziTtfgLC2"
      },
      "source": [
        "# Finding the index of misclassified numbers in ReLU NN \n",
        "nn_relu_prediction = np.argmax(nn_keras_relu.predict(test_input),axis = 1)\n",
        "relu_misclassified = np.where(nn_relu_prediction!=test_y)"
      ],
      "execution_count": null,
      "outputs": []
    },
    {
      "cell_type": "code",
      "metadata": {
        "id": "A3BakLbZi5J8"
      },
      "source": [
        "# Finding the index of misclassified numbers in Drop-out and Regularized NN \n",
        "nn_drop_prediction = np.argmax(nn_keras_drop.predict(test_input),axis = 1)\n",
        "drop_misclassified = np.where(nn_drop_prediction!=test_y)"
      ],
      "execution_count": null,
      "outputs": []
    },
    {
      "cell_type": "code",
      "metadata": {
        "id": "Smrx1ti6jMG-"
      },
      "source": [
        "# Finding the index of misclassified numbers in CNN \n",
        "cnn_prediction = np.argmax(cnn_model.predict(test_input_cnn),axis = 1)\n",
        "cnn_misclassified = np.where(cnn_prediction!=test_y)"
      ],
      "execution_count": null,
      "outputs": []
    },
    {
      "cell_type": "code",
      "metadata": {
        "colab": {
          "base_uri": "https://localhost:8080/"
        },
        "id": "FN-KM16pjfF1",
        "outputId": "6a570fa1-c1ad-4818-9e3e-4470b3406684"
      },
      "source": [
        "# Finding the misclassified numbers common in all the above 4 models\n",
        "intersect1 = np.intersect1d(keras_misclassified,relu_misclassified)\n",
        "intersect2 = np.intersect1d(drop_misclassified,cnn_misclassified)\n",
        "common_misclassified = np.intersect1d(intersect1,intersect2)\n",
        "print(\"Index of Mostly misclassified numbers:\")\n",
        "print(common_misclassified)"
      ],
      "execution_count": null,
      "outputs": [
        {
          "output_type": "stream",
          "text": [
            "Index of Mostly misclassified numbers:\n",
            "[ 321  340  445  582  659  720  965 1014 1112 1226 1242 1260 1393 1522\n",
            " 1530 1681 1717 1790 2016 2043 2118 2130 2369 2488 2607 2654 2896 3073\n",
            " 3422 3520 3558 3818 3853 3906 4248 4497 4807 4860 4966 5331 5887 5937\n",
            " 5955 5972 5973 5982 6597 6651 6783 7434 8094 8408 9009 9019 9024 9634\n",
            " 9664 9679 9729 9770]\n"
          ],
          "name": "stdout"
        }
      ]
    },
    {
      "cell_type": "code",
      "metadata": {
        "colab": {
          "base_uri": "https://localhost:8080/",
          "height": 1000
        },
        "id": "GrpyFsNcnpPl",
        "outputId": "40d3ba74-0eb2-4e25-f1bb-6a3c5a388019"
      },
      "source": [
        "# Randomly plotting 9 images\n",
        "random_indices = [4497,340,445,5887,659,720,9009,1014,1112]\n",
        "for index in random_indices:\n",
        "  plt.figure()\n",
        "  plt.imshow(test_x[index],cmap='gray')\n",
        "  plt.title('Test data index - {}'.format(index))\n",
        "  plt.show()"
      ],
      "execution_count": null,
      "outputs": [
        {
          "output_type": "display_data",
          "data": {
            "image/png": "[encoded data removed]",
            "text/plain": [
              "<Figure size 432x288 with 1 Axes>"
            ]
          },
          "metadata": {
            "tags": [],
            "needs_background": "light"
          }
        },
        {
          "output_type": "display_data",
          "data": {
            "image/png": "[encoded data removed]",
            "text/plain": [
              "<Figure size 432x288 with 1 Axes>"
            ]
          },
          "metadata": {
            "tags": [],
            "needs_background": "light"
          }
        },
        {
          "output_type": "display_data",
          "data": {
            "image/png": "[encoded data removed]",
            "text/plain": [
              "<Figure size 432x288 with 1 Axes>"
            ]
          },
          "metadata": {
            "tags": [],
            "needs_background": "light"
          }
        },
        {
          "output_type": "display_data",
          "data": {
            "image/png": "[encoded data removed]",
            "text/plain": [
              "<Figure size 432x288 with 1 Axes>"
            ]
          },
          "metadata": {
            "tags": [],
            "needs_background": "light"
          }
        },
        {
          "output_type": "display_data",
          "data": {
            "image/png": "[encoded data removed]",
            "text/plain": [
              "<Figure size 432x288 with 1 Axes>"
            ]
          },
          "metadata": {
            "tags": [],
            "needs_background": "light"
          }
        },
        {
          "output_type": "display_data",
          "data": {
            "image/png": "[encoded data removed]",
            "text/plain": [
              "<Figure size 432x288 with 1 Axes>"
            ]
          },
          "metadata": {
            "tags": [],
            "needs_background": "light"
          }
        },
        {
          "output_type": "display_data",
          "data": {
            "image/png": "[encoded data removed]",
            "text/plain": [
              "<Figure size 432x288 with 1 Axes>"
            ]
          },
          "metadata": {
            "tags": [],
            "needs_background": "light"
          }
        },
        {
          "output_type": "display_data",
          "data": {
            "image/png": "[encoded data removed]",
            "text/plain": [
              "<Figure size 432x288 with 1 Axes>"
            ]
          },
          "metadata": {
            "tags": [],
            "needs_background": "light"
          }
        },
        {
          "output_type": "display_data",
          "data": {
            "image/png": "[encoded data removed]",
            "text/plain": [
              "<Figure size 432x288 with 1 Axes>"
            ]
          },
          "metadata": {
            "tags": [],
            "needs_background": "light"
          }
        }
      ]
    },
    {
      "cell_type": "markdown",
      "metadata": {
        "id": "aB3mZ1qVv1qU"
      },
      "source": [
        "# **Inference:**\n",
        "Some of the images can be classified by me. There are two reasons for which some images cannot be classified:\n",
        "1. Lack of image clarity.\n",
        "2. Some numbers are rotated to different angles. Some numbers are written in different styles. This makes these images to stand unqiue from the regular representation of numbers. \n",
        "\n",
        "Hence, the neural network was not able to correctly classify these kind of images."
      ]
    },
    {
      "cell_type": "markdown",
      "metadata": {
        "id": "4yENTeAQ4SZI"
      },
      "source": [
        "# **Reference:**\n",
        "1. https://machinelearningmastery.com/tutorial-first-neural-network-python-keras/\n",
        "2. https://www.datacamp.com/community/tutorials/deep-learning-python\n",
        "3. https://www.tensorflow.org/tutorials/images/cnn\n"
      ]
    }
  ]
}